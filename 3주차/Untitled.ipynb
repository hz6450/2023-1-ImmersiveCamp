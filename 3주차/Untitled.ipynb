{
 "cells": [
  {
   "cell_type": "code",
   "execution_count": 37,
   "id": "76fc0952",
   "metadata": {},
   "outputs": [],
   "source": [
    "import requests\n",
    "from PIL import Image\n",
    "from io import BytesIO\n",
    "import cv2\n",
    "\n",
    "from transformers import ViTFeatureExtractor, ViTForImageClassification\n",
    "\n",
    "image_path = 'face.jpg'\n",
    "\n",
    "image = cv2.imread(image_path)\n",
    "\n",
    "# Get example image from official fairface repo + read it in as an image\n",
    "#r = requests.get('https://github.com/dchen236/FairFace/blob/master/detected_faces/race_Asian_face0.jpg?raw=true')\n",
    "#im = Image.open(BytesIO(r.content))\n",
    "\n",
    "# Init model, transforms\n",
    "model = ViTForImageClassification.from_pretrained('nateraw/vit-age-classifier')\n",
    "transforms = ViTFeatureExtractor.from_pretrained('nateraw/vit-age-classifier')\n",
    "\n",
    "# Transform our image and pass it through the model\n",
    "inputs = transforms(image, return_tensors='pt')\n",
    "output = model(**inputs)\n",
    "\n",
    "# Predicted Class probabilities\n",
    "proba = output.logits.softmax(1)\n",
    "\n",
    "# Predicted Classes\n",
    "preds = proba.argmax(1)\n"
   ]
  },
  {
   "cell_type": "code",
   "execution_count": 38,
   "id": "714b5f22",
   "metadata": {},
   "outputs": [
    {
     "data": {
      "text/plain": [
       "tensor([4])"
      ]
     },
     "execution_count": 38,
     "metadata": {},
     "output_type": "execute_result"
    }
   ],
   "source": [
    "preds"
   ]
  },
  {
   "cell_type": "code",
   "execution_count": 39,
   "id": "a8311c66",
   "metadata": {},
   "outputs": [
    {
     "data": {
      "text/plain": [
       "'face.jpg'"
      ]
     },
     "execution_count": 39,
     "metadata": {},
     "output_type": "execute_result"
    }
   ],
   "source": [
    "image_path"
   ]
  },
  {
   "cell_type": "code",
   "execution_count": 40,
   "id": "085d544d",
   "metadata": {},
   "outputs": [],
   "source": [
    "import requests\n",
    "from PIL import Image\n",
    "from io import BytesIO\n",
    "\n",
    "from transformers import ViTFeatureExtractor, ViTForImageClassification\n",
    "\n",
    "image_path = 'face.jpg'\n",
    "\n",
    "# Read the image\n",
    "image = Image.open(image_path)\n",
    "\n",
    "# Init model, transforms\n",
    "model = ViTForImageClassification.from_pretrained('nateraw/vit-age-classifier')\n",
    "transforms = ViTFeatureExtractor.from_pretrained('nateraw/vit-age-classifier')\n",
    "\n",
    "# Transform the image and pass it through the model\n",
    "inputs = transforms(image, return_tensors='pt')\n",
    "output = model(**inputs)\n",
    "\n",
    "# Predicted Class probabilities\n",
    "proba = output.logits.softmax(1)\n",
    "\n",
    "# Predicted Classes\n",
    "preds = proba.argmax(1)\n"
   ]
  },
  {
   "cell_type": "code",
   "execution_count": 46,
   "id": "a44b033b",
   "metadata": {},
   "outputs": [
    {
     "name": "stdout",
     "output_type": "stream",
     "text": [
      "나이대: 30-39\n"
     ]
    }
   ],
   "source": [
    "# Age class labels\n",
    "age_labels = ['0-2', '3-9', '10-19', '20-29', '30-39', '40-49', '50-59', '60-69', '70+']\n",
    "\n",
    "# Get predicted age label\n",
    "predicted_age = age_labels[preds.item()]\n",
    "\n",
    "# Print predicted age\n",
    "print(\"나이대:\", predicted_age)\n"
   ]
  },
  {
   "cell_type": "code",
   "execution_count": null,
   "id": "5732d3c0",
   "metadata": {},
   "outputs": [],
   "source": []
  }
 ],
 "metadata": {
  "kernelspec": {
   "display_name": "Python 3 (ipykernel)",
   "language": "python",
   "name": "python3"
  },
  "language_info": {
   "codemirror_mode": {
    "name": "ipython",
    "version": 3
   },
   "file_extension": ".py",
   "mimetype": "text/x-python",
   "name": "python",
   "nbconvert_exporter": "python",
   "pygments_lexer": "ipython3",
   "version": "3.10.9"
  }
 },
 "nbformat": 4,
 "nbformat_minor": 5
}
