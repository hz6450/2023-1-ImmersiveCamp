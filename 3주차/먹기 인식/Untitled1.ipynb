{
 "cells": [
  {
   "cell_type": "code",
   "execution_count": 9,
   "id": "506e8aea",
   "metadata": {},
   "outputs": [],
   "source": [
    "import os\n",
    "import random\n",
    "import cv2\n",
    "from cvzone.FaceMeshModule import FaceMeshDetector\n",
    "import cvzone\n"
   ]
  },
  {
   "cell_type": "code",
   "execution_count": 10,
   "id": "bb0e0252",
   "metadata": {},
   "outputs": [],
   "source": [
    "cap = cv2.VideoCapture(0)\n",
    "cap.set(3, 1280)\n",
    "cap.set(4, 720)\n",
    "\n",
    "detector = FaceMeshDetector(maxFaces=1)\n",
    "idList = [0, 17, 78, 292]\n",
    "\n",
    "folderEatable = 'content/eatable'\n",
    "listEatable = os.listdir(folderEatable)\n",
    "eatables = []\n",
    "for object in listEatable:\n",
    "    Eatables.append(cv2.imread(f'{folderEatable}/{object}', cv2.IMREAD_UNCHANGED))\n"
   ]
  },
  {
   "cell_type": "code",
   "execution_count": 7,
   "id": "9d0b536a",
   "metadata": {},
   "outputs": [],
   "source": [
    "folderNonEatable = 'content/noneatable'\n",
    "listEatable = os.listdir(folderNonEatable)\n",
    "nonEatables = []\n",
    "for object in listEatable:\n",
    "    nonEatables.append(cv2.imread(f'{folderNonEatable}/{object}', cv2.IMREAD_UNCHANGED))"
   ]
  },
  {
   "cell_type": "code",
   "execution_count": 8,
   "id": "7d879a37",
   "metadata": {},
   "outputs": [
    {
     "ename": "IndexError",
     "evalue": "list index out of range",
     "output_type": "error",
     "traceback": [
      "\u001b[1;31m---------------------------------------------------------------------------\u001b[0m",
      "\u001b[1;31mIndexError\u001b[0m                                Traceback (most recent call last)",
      "Cell \u001b[1;32mIn[8], line 1\u001b[0m\n\u001b[1;32m----> 1\u001b[0m currentObject \u001b[38;5;241m=\u001b[39m \u001b[43meatables\u001b[49m\u001b[43m[\u001b[49m\u001b[38;5;241;43m0\u001b[39;49m\u001b[43m]\u001b[49m\n\u001b[0;32m      2\u001b[0m pos \u001b[38;5;241m=\u001b[39m [\u001b[38;5;241m300\u001b[39m, \u001b[38;5;241m0\u001b[39m]\n\u001b[0;32m      3\u001b[0m speed \u001b[38;5;241m=\u001b[39m \u001b[38;5;241m5\u001b[39m\n",
      "\u001b[1;31mIndexError\u001b[0m: list index out of range"
     ]
    }
   ],
   "source": [
    "currentObject = eatables[0]\n",
    "pos = [300, 0]\n",
    "speed = 5\n",
    "count = 0\n",
    "global isEatable\n",
    "isEatable = True\n",
    "gameOver = False"
   ]
  },
  {
   "cell_type": "code",
   "execution_count": null,
   "id": "542892bf",
   "metadata": {},
   "outputs": [],
   "source": [
    "def resetObject():\n",
    "    global isEatable\n",
    "    pos[0] = random.randint(100, 1180)\n",
    "    pos[1] = 0\n",
    "    randNo = random.randint(0, 2)\n",
    "    if randNo == 0:\n",
    "        currentObject = nonEatable[random.randint(0, 3)]\n",
    "        isEatable = False\n",
    "    else:\n",
    "        currentObject = eatables[random.randint(0, 3)]\n",
    "        isEatable = True\n",
    "\n",
    "    return currentObject\n"
   ]
  },
  {
   "cell_type": "code",
   "execution_count": null,
   "id": "cfb347e0",
   "metadata": {},
   "outputs": [],
   "source": [
    "while True:\n",
    "    success, img = cap.read()\n",
    "\n",
    "    if gameOver is False:\n",
    "        img, faces = detector.findFaceMesh(img, draw=False)\n",
    "\n",
    "        img = cvzone.overlayPNG(img, currentObject, pos)\n",
    "        pos[1] += speed\n",
    "\n",
    "        if pos[1] > 520:\n",
    "            currentObject = resetObject()\n",
    "\n",
    "        if faces:\n",
    "            face = faces[0]\n",
    "\n",
    "            up = face[idList[0]]\n",
    "            down = face[idList[1]]\n",
    "\n",
    "            for id in idList:\n",
    "                cv2.circle(img, face[id], 5, (255, 0, 255), 5)\n",
    "            cv2.line(img, face[idList[2]], face[idList[3]], (0, 255, 0), 3)\n",
    "\n",
    "            upDown, _ = detector.findDistance(face[idList[0]], face[idList[1]])\n",
    "            leftRight, _ = detector.findDistance(face[idList[2]], face[idList[3]])\n",
    "\n",
    "            cx, cy = (up[0] + down[0]) // 2, (up[1] + down[1]) // 2\n",
    "            cv2.line(img, (cx, cy), (pos[0] + 50, pos[1] + 50))\n",
    "            print(distMouthObject)\n",
    "\n",
    "            ratio = int((upDown / leftRight) * 100)\n",
    "            print(ratio)\n",
    "            if ratio > 60:\n",
    "                mouthStatus = \"Open\"\n",
    "            else:\n",
    "                mouthStatus = \"Closed\"\n",
    "\n",
    "            cv2.putText(img, mouthStatus, (50, 50), cv2.FONT_HERSHEY_COMPLEX, 2, (255, 0, 255), 2)\n",
    "\n",
    "            if distMouthObject < 100 and ratio > 60:\n",
    "                if isEatable:\n",
    "                    currentObject = resetObject()\n",
    "                    count += 1\n",
    "                else:\n",
    "                    gameOver = True\n",
    "        cv2.putText(img, str(count), (1100, 50), cv2.FONT_HERSHEY_COMPLEX, 2, (255, 0, 255), 2)\n",
    "    else:\n",
    "        cv2.putText(img, \"Game Over\", (300, 400), cv2.FONT_HERSHEY_PLAIN, 2, (255, 0, 255), 10)\n",
    "\n",
    "    cv2.imshow(\"Image\", img)\n",
    "    key = cv2.waitkey(1)\n",
    "\n",
    "    if key == ord('r'):\n",
    "        resetObject()\n",
    "        gameOver = False\n",
    "        count = 0\n",
    "        currentObject = eatabkes[0]\n",
    "        pos = [300, 0]\n",
    "\n",
    "    if key == 27:\n",
    "        break\n",
    "cap.release()\n",
    "cv2.destroyAllWindows()\n"
   ]
  }
 ],
 "metadata": {
  "kernelspec": {
   "display_name": "Python 3 (ipykernel)",
   "language": "python",
   "name": "python3"
  },
  "language_info": {
   "codemirror_mode": {
    "name": "ipython",
    "version": 3
   },
   "file_extension": ".py",
   "mimetype": "text/x-python",
   "name": "python",
   "nbconvert_exporter": "python",
   "pygments_lexer": "ipython3",
   "version": "3.10.9"
  }
 },
 "nbformat": 4,
 "nbformat_minor": 5
}
