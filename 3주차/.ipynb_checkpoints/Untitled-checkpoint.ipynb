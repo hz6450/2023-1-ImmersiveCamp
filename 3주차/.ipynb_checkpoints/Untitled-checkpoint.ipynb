{
 "cells": [
  {
   "cell_type": "code",
   "execution_count": 12,
   "id": "c04c1682",
   "metadata": {},
   "outputs": [],
   "source": [
    "import requests\n",
    "from PIL import Image\n",
    "from io import BytesIO\n",
    "import cv2\n",
    "\n",
    "from transformers import ViTFeatureExtractor, ViTForImageClassification\n",
    "\n",
    "image_path = 'face.jpg'\n",
    "\n",
    "image = cv2.imread(image_path)\n",
    "\n",
    "# Get example image from official fairface repo + read it in as an image\n",
    "#r = requests.get('https://github.com/dchen236/FairFace/blob/master/detected_faces/race_Asian_face0.jpg?raw=true')\n",
    "#im = Image.open(BytesIO(r.content))\n",
    "\n",
    "# Init model, transforms\n",
    "model = ViTForImageClassification.from_pretrained('nateraw/vit-age-classifier')\n",
    "transforms = ViTFeatureExtractor.from_pretrained('nateraw/vit-age-classifier')\n",
    "\n",
    "# Transform our image and pass it through the model\n",
    "inputs = transforms(image, return_tensors='pt')\n",
    "output = model(**inputs)\n",
    "\n",
    "# Predicted Class probabilities\n",
    "proba = output.logits.softmax(1)\n",
    "\n",
    "# Predicted Classes\n",
    "preds = proba.argmax(1)\n"
   ]
  },
  {
   "cell_type": "code",
   "execution_count": 6,
   "id": "f76d4e40",
   "metadata": {},
   "outputs": [
    {
     "data": {
      "text/plain": [
       "tensor([4])"
      ]
     },
     "execution_count": 6,
     "metadata": {},
     "output_type": "execute_result"
    }
   ],
   "source": [
    "preds"
   ]
  },
  {
   "cell_type": "code",
   "execution_count": 13,
   "id": "b6c6d5f0",
   "metadata": {},
   "outputs": [
    {
     "data": {
      "text/plain": [
       "array([[[107, 130, 180],\n",
       "        [107, 130, 180],\n",
       "        [107, 130, 180],\n",
       "        ...,\n",
       "        [174, 217, 236],\n",
       "        [174, 217, 236],\n",
       "        [174, 217, 236]],\n",
       "\n",
       "       [[109, 132, 182],\n",
       "        [108, 131, 181],\n",
       "        [108, 131, 181],\n",
       "        ...,\n",
       "        [174, 217, 236],\n",
       "        [174, 217, 236],\n",
       "        [174, 217, 236]],\n",
       "\n",
       "       [[110, 133, 183],\n",
       "        [110, 133, 183],\n",
       "        [109, 132, 182],\n",
       "        ...,\n",
       "        [174, 217, 236],\n",
       "        [174, 217, 236],\n",
       "        [174, 217, 236]],\n",
       "\n",
       "       ...,\n",
       "\n",
       "       [[ 73, 128, 197],\n",
       "        [ 74, 128, 193],\n",
       "        [ 77, 130, 193],\n",
       "        ...,\n",
       "        [136, 176, 195],\n",
       "        [136, 176, 195],\n",
       "        [136, 176, 195]],\n",
       "\n",
       "       [[ 75, 127, 197],\n",
       "        [ 75, 127, 194],\n",
       "        [ 76, 128, 194],\n",
       "        ...,\n",
       "        [136, 176, 195],\n",
       "        [136, 176, 195],\n",
       "        [136, 176, 195]],\n",
       "\n",
       "       [[ 75, 126, 196],\n",
       "        [ 76, 125, 193],\n",
       "        [ 78, 128, 194],\n",
       "        ...,\n",
       "        [135, 175, 194],\n",
       "        [135, 175, 194],\n",
       "        [135, 175, 194]]], dtype=uint8)"
      ]
     },
     "execution_count": 13,
     "metadata": {},
     "output_type": "execute_result"
    }
   ],
   "source": [
    "image"
   ]
  },
  {
   "cell_type": "code",
   "execution_count": null,
   "id": "c894bbfd",
   "metadata": {},
   "outputs": [],
   "source": []
  }
 ],
 "metadata": {
  "kernelspec": {
   "display_name": "Python 3 (ipykernel)",
   "language": "python",
   "name": "python3"
  },
  "language_info": {
   "codemirror_mode": {
    "name": "ipython",
    "version": 3
   },
   "file_extension": ".py",
   "mimetype": "text/x-python",
   "name": "python",
   "nbconvert_exporter": "python",
   "pygments_lexer": "ipython3",
   "version": "3.10.9"
  }
 },
 "nbformat": 4,
 "nbformat_minor": 5
}
