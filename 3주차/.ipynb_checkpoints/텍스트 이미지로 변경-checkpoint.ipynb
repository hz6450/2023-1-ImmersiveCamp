{
 "cells": [
  {
   "cell_type": "code",
   "execution_count": 1,
   "id": "31be6249",
   "metadata": {},
   "outputs": [],
   "source": [
    "!pip install --upgrade -qq git+https://github.com/huggingface/diffusers.git transformers accelerate scipy xformers gradio translate"
   ]
  },
  {
   "cell_type": "code",
   "execution_count": null,
   "id": "e50dd9de",
   "metadata": {},
   "outputs": [],
   "source": [
    "import torch\n",
    "from diffusers import StableDiffusionPipeline, EulerDiscreteScheduler\n",
    "model_id =\"stabilityai/stable-diffusion-2\"\n",
    "\n",
    "scheduler=EulerDiscreteScheduler.from_pretrained(model_id, subfolder=\"scheduler\")\n",
    "pipe=StableDiffusionPipeline.from_pretrained(model_id,scheduler=scheduler,revision=\"fp16\")\n",
    "torch_dtype=torch.float16\n",
    "pipe=pipe.to(\"cuda\")\n",
    "prompt=\"cute animal cat\"\n",
    "image=pipe(prompt,height=768,width=768).images[0]\n",
    "image.save(\"woman.png\")\n",
    "image"
   ]
  },
  {
   "cell_type": "code",
   "execution_count": null,
   "id": "079dd33b",
   "metadata": {},
   "outputs": [],
   "source": [
    "from translate import Translator\n",
    "translator = Translator(from_lang=\"ko\", to_lang=\"en\")\n",
    "\n",
    "def generate_images(text):\n",
    "    print(text)\n",
    "    translation = translator.translate(text)\n",
    "    print(translation)\n",
    "    image=pipe(translation,height=768,width=768).images[0]\n",
    "    return image\n",
    "\n",
    "generate_images(\"총을 든 오스테랄로피테쿠스\")"
   ]
  },
  {
   "cell_type": "code",
   "execution_count": null,
   "id": "e49aa7a2",
   "metadata": {},
   "outputs": [],
   "source": [
    "from translate import Translator\n",
    "translator = Translator(from_lang=\"ko\", to_lang=\"en\")\n",
    "\n",
    "def generate_images(text):\n",
    "    print(text)\n",
    "    translation = translator.translate(text)\n",
    "    print(translation)\n",
    "    image=pipe(translation,height=768,width=768).images[0]\n",
    "    return image\n",
    "\n",
    "text = input(\"입력하세요\")\n",
    "generate_images(text)"
   ]
  },
  {
   "cell_type": "code",
   "execution_count": 3,
   "id": "e9837928",
   "metadata": {},
   "outputs": [
    {
     "name": "stdout",
     "output_type": "stream",
     "text": [
      " * Serving Flask app '__main__'\n",
      " * Debug mode: off\n"
     ]
    },
    {
     "name": "stderr",
     "output_type": "stream",
     "text": [
      "WARNING: This is a development server. Do not use it in a production deployment. Use a production WSGI server instead.\n",
      " * Running on http://127.0.0.1:5000\n",
      "Press CTRL+C to quit\n"
     ]
    }
   ],
   "source": [
    "from flask import Flask\n",
    "app = Flask(__name__)\n",
    "\n",
    "\n",
    "@app.route('/')\n",
    "def hello():\n",
    "    return \"Hello World!\"\n",
    "\n",
    "if __name__ == '__main__':\n",
    "    app.run()"
   ]
  },
  {
   "cell_type": "code",
   "execution_count": null,
   "id": "8d8b1673",
   "metadata": {},
   "outputs": [],
   "source": []
  }
 ],
 "metadata": {
  "kernelspec": {
   "display_name": "Python 3 (ipykernel)",
   "language": "python",
   "name": "python3"
  },
  "language_info": {
   "codemirror_mode": {
    "name": "ipython",
    "version": 3
   },
   "file_extension": ".py",
   "mimetype": "text/x-python",
   "name": "python",
   "nbconvert_exporter": "python",
   "pygments_lexer": "ipython3",
   "version": "3.10.9"
  }
 },
 "nbformat": 4,
 "nbformat_minor": 5
}
