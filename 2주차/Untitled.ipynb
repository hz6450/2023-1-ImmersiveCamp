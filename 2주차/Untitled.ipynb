{
 "cells": [
  {
   "cell_type": "code",
   "execution_count": null,
   "id": "a76ba660",
   "metadata": {},
   "outputs": [
    {
     "name": "stdout",
     "output_type": "stream",
     "text": [
      "문장을 입력하면 긍부정 판단하여 보여주는 챗봇: 안녕\n",
      "이 문장은: ko\n",
      "영어로 번역하면: Hi.\n",
      "중립 문장입니다.\n"
     ]
    }
   ],
   "source": [
    "from textblob import TextBlob\n",
    "from langdetect import detect\n",
    "from translate import Translator\n",
    "\n",
    "while True:\n",
    "    text = input(\"문장을 입력하면 긍부정 판단하여 보여주는 챗봇: \")\n",
    "    if text == 'q':\n",
    "        break\n",
    "    language = detect(text)\n",
    "    if language != \"en\":\n",
    "        translator = Translator(to_lang=\"en\", from_lang=language)\n",
    "        translated_text = translator.translate(text)\n",
    "    else:\n",
    "        translated_text = text\n",
    "\n",
    "    sentiment = TextBlob(translated_text).sentiment.polarity\n",
    "\n",
    "    print(\"이 문장은:\", language)\n",
    "    print(\"영어로 번역하면:\", translated_text)\n",
    "    if sentiment > 0:\n",
    "        print(\"긍정 문장입니다.\")\n",
    "    elif sentiment < 0:\n",
    "        print(\"부정 문장입니다.\")\n",
    "    else:\n",
    "        print(\"중립 문장입니다.\")\n"
   ]
  },
  {
   "cell_type": "code",
   "execution_count": null,
   "id": "81d97fd7",
   "metadata": {},
   "outputs": [],
   "source": []
  }
 ],
 "metadata": {
  "kernelspec": {
   "display_name": "Python 3 (ipykernel)",
   "language": "python",
   "name": "python3"
  },
  "language_info": {
   "codemirror_mode": {
    "name": "ipython",
    "version": 3
   },
   "file_extension": ".py",
   "mimetype": "text/x-python",
   "name": "python",
   "nbconvert_exporter": "python",
   "pygments_lexer": "ipython3",
   "version": "3.10.9"
  }
 },
 "nbformat": 4,
 "nbformat_minor": 5
}
