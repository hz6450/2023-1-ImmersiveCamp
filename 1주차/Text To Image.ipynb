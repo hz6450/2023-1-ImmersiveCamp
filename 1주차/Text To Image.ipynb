{
 "cells": [
  {
   "cell_type": "code",
   "execution_count": 1,
   "id": "c023d125",
   "metadata": {},
   "outputs": [
    {
     "name": "stdout",
     "output_type": "stream",
     "text": [
      "Requirement already satisfied: torch in c:\\users\\korea\\anaconda3\\lib\\site-packages (1.13.0)\n",
      "Requirement already satisfied: torchvision in c:\\users\\korea\\anaconda3\\lib\\site-packages (0.14.0)\n",
      "Requirement already satisfied: Pillow in c:\\users\\korea\\anaconda3\\lib\\site-packages (9.2.0)\n",
      "Requirement already satisfied: tqdm in c:\\users\\korea\\anaconda3\\lib\\site-packages (4.64.1)\n",
      "Requirement already satisfied: typing-extensions in c:\\users\\korea\\anaconda3\\lib\\site-packages (from torch) (4.3.0)\n",
      "Requirement already satisfied: requests in c:\\users\\korea\\anaconda3\\lib\\site-packages (from torchvision) (2.28.1)\n",
      "Requirement already satisfied: numpy in c:\\users\\korea\\anaconda3\\lib\\site-packages (from torchvision) (1.23.5)\n",
      "Requirement already satisfied: colorama in c:\\users\\korea\\anaconda3\\lib\\site-packages (from tqdm) (0.4.5)\n",
      "Requirement already satisfied: idna<4,>=2.5 in c:\\users\\korea\\anaconda3\\lib\\site-packages (from requests->torchvision) (3.3)\n",
      "Requirement already satisfied: urllib3<1.27,>=1.21.1 in c:\\users\\korea\\anaconda3\\lib\\site-packages (from requests->torchvision) (1.26.11)\n",
      "Requirement already satisfied: charset-normalizer<3,>=2 in c:\\users\\korea\\anaconda3\\lib\\site-packages (from requests->torchvision) (2.0.4)\n",
      "Requirement already satisfied: certifi>=2017.4.17 in c:\\users\\korea\\anaconda3\\lib\\site-packages (from requests->torchvision) (2022.9.14)\n"
     ]
    },
    {
     "ename": "ModuleNotFoundError",
     "evalue": "No module named 'cgan_text_to_image'",
     "output_type": "error",
     "traceback": [
      "\u001b[1;31m---------------------------------------------------------------------------\u001b[0m",
      "\u001b[1;31mModuleNotFoundError\u001b[0m                       Traceback (most recent call last)",
      "\u001b[1;32mC:\\Users\\Public\\Documents\\ESTsoft\\CreatorTemp\\ipykernel_6104\\424456974.py\u001b[0m in \u001b[0;36m<module>\u001b[1;34m\u001b[0m\n\u001b[0;32m      7\u001b[0m \u001b[1;32mfrom\u001b[0m \u001b[0mPIL\u001b[0m \u001b[1;32mimport\u001b[0m \u001b[0mImage\u001b[0m\u001b[1;33m\u001b[0m\u001b[1;33m\u001b[0m\u001b[0m\n\u001b[0;32m      8\u001b[0m \u001b[1;32mfrom\u001b[0m \u001b[0mtqdm\u001b[0m \u001b[1;32mimport\u001b[0m \u001b[0mtqdm\u001b[0m\u001b[1;33m\u001b[0m\u001b[1;33m\u001b[0m\u001b[0m\n\u001b[1;32m----> 9\u001b[1;33m \u001b[1;32mfrom\u001b[0m \u001b[0mcgan_text_to_image\u001b[0m \u001b[1;32mimport\u001b[0m \u001b[0mgenerator\u001b[0m\u001b[1;33m\u001b[0m\u001b[1;33m\u001b[0m\u001b[0m\n\u001b[0m\u001b[0;32m     10\u001b[0m \u001b[1;33m\u001b[0m\u001b[0m\n\u001b[0;32m     11\u001b[0m \u001b[1;31m# GAN 모델 불러오기\u001b[0m\u001b[1;33m\u001b[0m\u001b[1;33m\u001b[0m\u001b[0m\n",
      "\u001b[1;31mModuleNotFoundError\u001b[0m: No module named 'cgan_text_to_image'"
     ]
    }
   ],
   "source": [
    "# 필요한 라이브러리 설치\n",
    "!pip install torch torchvision Pillow tqdm\n",
    "\n",
    "# 라이브러리 불러오기\n",
    "import torch\n",
    "import torchvision.transforms as transforms\n",
    "from PIL import Image\n",
    "from tqdm import tqdm\n",
    "from cgan_text_to_image import generator\n",
    "\n",
    "# GAN 모델 불러오기\n",
    "model = generator()\n",
    "\n",
    "# 모델 학습 결과 불러오기\n",
    "checkpoint = torch.load(\"generator.pth\", map_location=torch.device('cpu'))\n",
    "model.load_state_dict(checkpoint['model_state_dict'])\n",
    "\n",
    "# 텍스트 입력 받기\n",
    "text = input(\"Enter text: \")\n",
    "\n",
    "# 텍스트를 이미지로 변환\n",
    "with torch.no_grad():\n",
    "    z = torch.randn(1, 100)\n",
    "    text_tensor = torch.zeros(1, 1024)\n",
    "    for i, char in enumerate(text):\n",
    "        text_tensor[0][i] = ord(char)\n",
    "    img = model(z, text_tensor)\n",
    "    \n",
    "# 이미지 출력\n",
    "img = transforms.ToPILImage()(img.squeeze())\n",
    "img.show()\n"
   ]
  },
  {
   "cell_type": "code",
   "execution_count": 2,
   "id": "0fa2ee28",
   "metadata": {},
   "outputs": [
    {
     "name": "stderr",
     "output_type": "stream",
     "text": [
      "ERROR: Could not find a version that satisfies the requirement cgan_text_to_image (from versions: none)\n",
      "ERROR: No matching distribution found for cgan_text_to_image\n"
     ]
    }
   ],
   "source": [
    "!pip install cgan_text_to_image"
   ]
  }
 ],
 "metadata": {
  "kernelspec": {
   "display_name": "Python 3 (ipykernel)",
   "language": "python",
   "name": "python3"
  },
  "language_info": {
   "codemirror_mode": {
    "name": "ipython",
    "version": 3
   },
   "file_extension": ".py",
   "mimetype": "text/x-python",
   "name": "python",
   "nbconvert_exporter": "python",
   "pygments_lexer": "ipython3",
   "version": "3.9.13"
  }
 },
 "nbformat": 4,
 "nbformat_minor": 5
}
