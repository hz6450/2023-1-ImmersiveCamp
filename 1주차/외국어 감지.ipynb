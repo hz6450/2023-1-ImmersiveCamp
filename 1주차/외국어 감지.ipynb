{
 "cells": [
  {
   "cell_type": "code",
   "execution_count": 1,
   "id": "02fff22f",
   "metadata": {},
   "outputs": [
    {
     "name": "stdout",
     "output_type": "stream",
     "text": [
      "Collecting translate\n",
      "  Downloading translate-3.6.1-py2.py3-none-any.whl (12 kB)\n",
      "Collecting libretranslatepy==2.1.1\n",
      "  Downloading libretranslatepy-2.1.1-py3-none-any.whl (3.2 kB)\n",
      "Requirement already satisfied: click in c:\\users\\1\\anaconda3\\lib\\site-packages (from translate) (8.0.4)\n",
      "Requirement already satisfied: requests in c:\\users\\1\\anaconda3\\lib\\site-packages (from translate) (2.28.1)\n",
      "Requirement already satisfied: lxml in c:\\users\\1\\anaconda3\\lib\\site-packages (from translate) (4.9.1)\n",
      "Requirement already satisfied: colorama in c:\\users\\1\\anaconda3\\lib\\site-packages (from click->translate) (0.4.6)\n",
      "Requirement already satisfied: idna<4,>=2.5 in c:\\users\\1\\anaconda3\\lib\\site-packages (from requests->translate) (3.4)\n",
      "Requirement already satisfied: certifi>=2017.4.17 in c:\\users\\1\\anaconda3\\lib\\site-packages (from requests->translate) (2022.12.7)\n",
      "Requirement already satisfied: urllib3<1.27,>=1.21.1 in c:\\users\\1\\anaconda3\\lib\\site-packages (from requests->translate) (1.26.14)\n",
      "Requirement already satisfied: charset-normalizer<3,>=2 in c:\\users\\1\\anaconda3\\lib\\site-packages (from requests->translate) (2.0.4)\n",
      "Installing collected packages: libretranslatepy, translate\n",
      "Successfully installed libretranslatepy-2.1.1 translate-3.6.1\n"
     ]
    }
   ],
   "source": [
    "!pip install translate"
   ]
  },
  {
   "cell_type": "code",
   "execution_count": 7,
   "id": "eaebfd77",
   "metadata": {},
   "outputs": [
    {
     "name": "stdout",
     "output_type": "stream",
     "text": [
      "Enter a text to detect its language and translate to English: 몰루\n",
      "The language of the text is: ko\n",
      "The translated text is: Molu\n"
     ]
    }
   ],
   "source": [
    "from langdetect import detect\n",
    "from translate import Translator\n",
    "\n",
    "# 사용자로부터 입력 값을 받음\n",
    "text = input(\"Enter a text to detect its language and translate to English: \")\n",
    "\n",
    "# 언어 감지\n",
    "language = detect(text)\n",
    "\n",
    "# 입력된 언어가 영어가 아니라면 번역 수행\n",
    "if language != \"en\":\n",
    "    # 번역 수행\n",
    "    translator = Translator(to_lang=\"en\", from_lang=language)\n",
    "    translated_text = translator.translate(text)\n",
    "else:\n",
    "    # 입력된 언어가 영어인 경우에는 번역하지 않고 입력 값을 그대로 사용\n",
    "    translated_text = text\n",
    "\n",
    "# 결과 출력\n",
    "print(\"The language of the text is:\", language)\n",
    "print(\"The translated text is:\", translated_text)\n"
   ]
  },
  {
   "cell_type": "code",
   "execution_count": 8,
   "id": "ff600178",
   "metadata": {},
   "outputs": [
    {
     "name": "stdout",
     "output_type": "stream",
     "text": [
      "Enter a text to detect its language and translate to English (type 'q' to quit): i love you\n",
      "The language of the text is: hr\n",
      "The translated text is: i love you\n",
      "Enter a text to detect its language and translate to English (type 'q' to quit): 나는 너를 사랑해\n",
      "The language of the text is: ko\n",
      "The translated text is: jerwin\n",
      "Enter a text to detect its language and translate to English (type 'q' to quit): i like you\n",
      "The language of the text is: sw\n",
      "The translated text is: i like you\n",
      "Enter a text to detect its language and translate to English (type 'q' to quit): je t'aime\n",
      "The language of the text is: sl\n",
      "The translated text is: the T'aime\n",
      "Enter a text to detect its language and translate to English (type 'q' to quit): Je t'aime.\n",
      "The language of the text is: fr\n",
      "The translated text is: I love you.\n",
      "Enter a text to detect its language and translate to English (type 'q' to quit): je t'aime.\n",
      "The language of the text is: sq\n",
      "The translated text is: ilove you.\n",
      "Enter a text to detect its language and translate to English (type 'q' to quit): Je t'aime\n",
      "The language of the text is: et\n",
      "The translated text is: Je t'aime\n",
      "Enter a text to detect its language and translate to English (type 'q' to quit): Je t'aime.\n",
      "The language of the text is: fr\n",
      "The translated text is: I love you.\n",
      "Enter a text to detect its language and translate to English (type 'q' to quit):  Te amo.\n",
      "The language of the text is: sw\n",
      "The translated text is: te amo\n",
      "Enter a text to detect its language and translate to English (type 'q' to quit): Te amo.\n",
      "The language of the text is: pt\n",
      "The translated text is: I love you.\n",
      "Enter a text to detect its language and translate to English (type 'q' to quit): Eu te amo.\n",
      "The language of the text is: pt\n",
      "The translated text is: I love you.\n",
      "Enter a text to detect its language and translate to English (type 'q' to quit): 나는 밥을 먹었어\n",
      "The language of the text is: ko\n",
      "The translated text is: I ate.\n",
      "Enter a text to detect its language and translate to English (type 'q' to quit): q\n"
     ]
    }
   ],
   "source": [
    "from langdetect import detect\n",
    "from translate import Translator\n",
    "\n",
    "while True:\n",
    "    # 사용자로부터 입력 값을 받음\n",
    "    text = input(\"Enter a text to detect its language and translate to English (type 'q' to quit): \")\n",
    "    \n",
    "    # 'q'를 입력하면 프로그램 종료\n",
    "    if text == 'q':\n",
    "        break\n",
    "    \n",
    "    # 언어 감지\n",
    "    language = detect(text)\n",
    "\n",
    "    # 입력된 언어가 영어가 아니라면 번역 수행\n",
    "    if language != \"en\":\n",
    "        # 번역 수행\n",
    "        translator = Translator(to_lang=\"en\", from_lang=language)\n",
    "        translated_text = translator.translate(text)\n",
    "    else:\n",
    "        # 입력된 언어가 영어인 경우에는 번역하지 않고 입력 값을 그대로 사용\n",
    "        translated_text = text\n",
    "\n",
    "    # 결과 출력\n",
    "    print(\"The language of the text is:\", language)\n",
    "    print(\"The translated text is:\", translated_text)\n"
   ]
  },
  {
   "cell_type": "code",
   "execution_count": 6,
   "id": "2d7531c1",
   "metadata": {},
   "outputs": [
    {
     "name": "stdout",
     "output_type": "stream",
     "text": [
      "Enter a text to detect its language, translate to English and perform sentiment analysis (type 'q' to quit): 몰라요\n",
      "The language of the text is: ko\n",
      "The translated text is: I do not know\n",
      "The sentiment of the text is neutral.\n",
      "Enter a text to detect its language, translate to English and perform sentiment analysis (type 'q' to quit): q\n"
     ]
    }
   ],
   "source": [
    "from langdetect import detect\n",
    "from translate import Translator\n",
    "from textblob import TextBlob\n",
    "\n",
    "while True:\n",
    "    # 사용자로부터 입력 값을 받음\n",
    "    text = input(\"Enter a text to detect its language, translate to English and perform sentiment analysis (type 'q' to quit): \")\n",
    "    \n",
    "    # 'q'를 입력하면 프로그램 종료\n",
    "    if text == 'q':\n",
    "        break\n",
    "    \n",
    "    # 언어 감지\n",
    "    language = detect(text)\n",
    "\n",
    "    # 입력된 언어가 영어가 아니라면 번역 수행\n",
    "    if language != \"en\":\n",
    "        # 번역 수행\n",
    "        translator = Translator(to_lang=\"en\", from_lang=language)\n",
    "        translated_text = translator.translate(text)\n",
    "    else:\n",
    "        # 입력된 언어가 영어인 경우에는 번역하지 않고 입력 값을 그대로 사용\n",
    "        translated_text = text\n",
    "    \n",
    "    # 감정 분석 수행\n",
    "    sentiment = TextBlob(translated_text).sentiment.polarity\n",
    "    \n",
    "    # 결과 출력\n",
    "    print(\"The language of the text is:\", language)\n",
    "    print(\"The translated text is:\", translated_text)\n",
    "    \n",
    "    if sentiment > 0:\n",
    "        print(\"The sentiment of the text is positive.\")\n",
    "    elif sentiment < 0:\n",
    "        print(\"The sentiment of the text is negative.\")\n",
    "    else:\n",
    "        print(\"The sentiment of the text is neutral.\")\n"
   ]
  },
  {
   "cell_type": "code",
   "execution_count": null,
   "id": "f0ef886e",
   "metadata": {},
   "outputs": [
    {
     "name": "stdout",
     "output_type": "stream",
     "text": [
      "문장을 입력하면 긍부정 판단하여 보여주는 챗봇 (type 'q' to quit): 아기 코끼리는 못생겨서 보기 싫다.\n",
      "이 문장은: ko\n",
      "영어로 번역하면: Baby elephants are ugly and I don't want to see them.\n",
      "부정 문장입니다.\n",
      "문장을 입력하면 긍부정 판단하여 보여주는 챗봇 (type 'q' to quit): Bayi gajah jelek dan saya benci melihatnya.\n",
      "이 문장은: id\n",
      "영어로 번역하면: Baby elephants are ugly and I hate to see them.\n",
      "부정 문장입니다.\n",
      "문장을 입력하면 긍부정 판단하여 보여주는 챗봇 (type 'q' to quit): Les bébés éléphants sont laids et je déteste les voir.\n",
      "이 문장은: fr\n",
      "영어로 번역하면: Baby elephants are ugly and I hate seeing them.\n",
      "부정 문장입니다.\n"
     ]
    }
   ],
   "source": [
    "from langdetect import detect\n",
    "from translate import Translator\n",
    "from textblob import TextBlob\n",
    "\n",
    "while True:\n",
    "    # 사용자로부터 입력 값을 받음\n",
    "    text = input(\"문장을 입력하면 긍부정 판단하여 보여주는 챗봇 (type 'q' to quit): \")\n",
    "    \n",
    "    # 'q'를 입력하면 프로그램 종료\n",
    "    if text == 'q':\n",
    "        break\n",
    "    \n",
    "    # 언어 감지\n",
    "    language = detect(text)\n",
    "\n",
    "    # 입력된 언어가 영어가 아니라면 번역 수행\n",
    "    if language != \"en\":\n",
    "        # 번역 수행\n",
    "        translator = Translator(to_lang=\"en\", from_lang=language)\n",
    "        translated_text = translator.translate(text)\n",
    "    else:\n",
    "        # 입력된 언어가 영어인 경우에는 번역하지 않고 입력 값을 그대로 사용\n",
    "        translated_text = text\n",
    "    \n",
    "    # 감정 분석 수행\n",
    "    sentiment = TextBlob(translated_text).sentiment.polarity\n",
    "    \n",
    "    # 결과 출력\n",
    "    print(\"이 문장은:\", language)\n",
    "    print(\"영어로 번역하면:\", translated_text)\n",
    "    \n",
    "    if sentiment > 0:\n",
    "        print(\"긍정 문장입니다.\")\n",
    "    elif sentiment < 0:\n",
    "        print(\"부정 문장입니다.\")\n",
    "    else:\n",
    "        print(\"중립 문장입니다.\")\n"
   ]
  },
  {
   "cell_type": "code",
   "execution_count": 4,
   "id": "eb8e7d50",
   "metadata": {
    "scrolled": true
   },
   "outputs": [
    {
     "name": "stdout",
     "output_type": "stream",
     "text": [
      "Collecting textblob\n",
      "  Downloading textblob-0.17.1-py2.py3-none-any.whl (636 kB)\n",
      "     -------------------------------------- 636.8/636.8 kB 2.0 MB/s eta 0:00:00\n",
      "Requirement already satisfied: nltk>=3.1 in c:\\users\\1\\anaconda3\\lib\\site-packages (from textblob) (3.7)\n",
      "Requirement already satisfied: regex>=2021.8.3 in c:\\users\\1\\anaconda3\\lib\\site-packages (from nltk>=3.1->textblob) (2022.7.9)\n",
      "Requirement already satisfied: joblib in c:\\users\\1\\anaconda3\\lib\\site-packages (from nltk>=3.1->textblob) (1.1.1)\n",
      "Requirement already satisfied: click in c:\\users\\1\\anaconda3\\lib\\site-packages (from nltk>=3.1->textblob) (8.0.4)\n",
      "Requirement already satisfied: tqdm in c:\\users\\1\\anaconda3\\lib\\site-packages (from nltk>=3.1->textblob) (4.64.1)\n",
      "Requirement already satisfied: colorama in c:\\users\\1\\anaconda3\\lib\\site-packages (from click->nltk>=3.1->textblob) (0.4.6)\n",
      "Installing collected packages: textblob\n",
      "Successfully installed textblob-0.17.1\n"
     ]
    }
   ],
   "source": [
    "!pip install textblob"
   ]
  },
  {
   "cell_type": "code",
   "execution_count": null,
   "id": "f6d7875a",
   "metadata": {},
   "outputs": [],
   "source": []
  }
 ],
 "metadata": {
  "kernelspec": {
   "display_name": "Python 3 (ipykernel)",
   "language": "python",
   "name": "python3"
  },
  "language_info": {
   "codemirror_mode": {
    "name": "ipython",
    "version": 3
   },
   "file_extension": ".py",
   "mimetype": "text/x-python",
   "name": "python",
   "nbconvert_exporter": "python",
   "pygments_lexer": "ipython3",
   "version": "3.10.9"
  }
 },
 "nbformat": 4,
 "nbformat_minor": 5
}
